{
 "cells": [
  {
   "cell_type": "markdown",
   "metadata": {},
   "source": [
    "### Labouchere system for gambling tested and analysis"
   ]
  },
  {
   "cell_type": "code",
   "execution_count": 5,
   "metadata": {},
   "outputs": [],
   "source": [
    "import random\n",
    "import time\n",
    "import matplotlib.pyplot as plt\n",
    "import matplotlib\n",
    "from matplotlib import style\n",
    "%matplotlib qt\n",
    "\n",
    "style.use(\"ggplot\")"
   ]
  },
  {
   "cell_type": "code",
   "execution_count": 7,
   "metadata": {},
   "outputs": [],
   "source": [
    "broke_count =0\n",
    "\n",
    "totalFunded=0\n",
    "totalEnding=0"
   ]
  },
  {
   "cell_type": "code",
   "execution_count": 9,
   "metadata": {},
   "outputs": [],
   "source": [
    "def Labouchere():\n",
    "    global broke_count\n",
    "    global totalFunded\n",
    "    global totalEnding\n",
    "    global wins\n",
    "    global losses\n",
    "    starting_funds=100\n",
    "    \n",
    "    totalFunded+=starting_funds\n",
    "    \n",
    "    goal=10\n",
    "    system=[1,1,1,1,1,1,1,1,1,1]\n",
    "    \n",
    "    profit=0\n",
    "    \n",
    "    current_funds = starting_funds\n",
    "    wagerSizes=[]\n",
    "    plot_funds=[]\n",
    "    \n",
    "    not_broke=True\n",
    "    \n",
    "    wins=0\n",
    "    losses=0\n",
    "    \n",
    "    while profit<goal and not_broke:\n",
    "        if len(system)>1:\n",
    "            size = system[0]+system[-1]\n",
    "            wagerSizes.append(size)\n",
    "            plot_funds.append(current_funds)\n",
    "        else:\n",
    "            size=system[0]\n",
    "            wagerSizes.append(size)\n",
    "            plot_funds.append(current_funds)\n",
    "            \n",
    "        if current_funds <=0:\n",
    "            not_broke= False\n",
    "            broke_count+=1\n",
    "            \n",
    "        elif (current_funds - size) <=0:\n",
    "            size=current_funds\n",
    "            not_broke=False\n",
    "            broke_count+=1\n",
    "            \n",
    "            \n",
    "        dice = random.randrange(1,101)\n",
    "        if dice<51:\n",
    "            losses+=1\n",
    "            system.append(size)\n",
    "            current_funds-=size\n",
    "            profit=current_funds -starting_funds\n",
    "            \n",
    "        else:\n",
    "            wins+=1\n",
    "            current_funds+=size\n",
    "            profit=current_funds -starting_funds\n",
    "            if profit !=goal:\n",
    "                try:\n",
    "                    del system[0]\n",
    "                    del system[-1]\n",
    "                except:\n",
    "                    pass\n",
    "                \n",
    "    wagerSizes.append(size)\n",
    "    plot_funds.append(current_funds)\n",
    "    \n",
    "    totalEnding+=current_funds\n",
    "    \n",
    "    s1.plot(wagerSizes)\n",
    "    s2.plot(plot_funds)                "
   ]
  },
  {
   "cell_type": "code",
   "execution_count": 11,
   "metadata": {},
   "outputs": [
    {
     "name": "stdout",
     "output_type": "stream",
     "text": [
      "Winners: 6 Losers: 1\n",
      "Total funded: 110000\n",
      "Total ended: 109130\n",
      "Broke percentage: 13.200000000000001\n"
     ]
    }
   ],
   "source": [
    "f = plt.figure()\n",
    "s1 = f.add_subplot(211)\n",
    "s2 = f.add_subplot(212)\n",
    "sample_size=1000\n",
    "\n",
    "\n",
    "for x in range(sample_size):\n",
    "    Labouchere()\n",
    "    \n",
    "print(f\"Winners: {wins} Losers: {losses}\")\n",
    "print(f\"Total funded: {totalFunded}\")\n",
    "print(f\"Total ended: {totalEnding}\")\n",
    "print(f\"Broke percentage: {(float(broke_count)/sample_size)*100.0}\")\n",
    "plt.show()"
   ]
  }
 ],
 "metadata": {
  "kernelspec": {
   "display_name": "Python 3",
   "language": "python",
   "name": "python3"
  },
  "language_info": {
   "codemirror_mode": {
    "name": "ipython",
    "version": 3
   },
   "file_extension": ".py",
   "mimetype": "text/x-python",
   "name": "python",
   "nbconvert_exporter": "python",
   "pygments_lexer": "ipython3",
   "version": "3.7.7"
  }
 },
 "nbformat": 4,
 "nbformat_minor": 4
}
